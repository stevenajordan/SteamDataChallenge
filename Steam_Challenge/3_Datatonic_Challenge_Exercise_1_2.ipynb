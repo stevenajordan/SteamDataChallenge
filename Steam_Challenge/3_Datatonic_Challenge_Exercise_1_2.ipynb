{
 "cells": [
  {
   "cell_type": "markdown",
   "metadata": {
    "collapsed": true
   },
   "source": [
    "<h2 style=\"text-align: center;\"><strong>Steam Challenge for Datatonic</strong></h2>\n",
    "<h3 style=\"text-align: center;\">Steven Jordan</h3>\n",
    "<p><strong>Exercise 1: Data Engineering</strong></p>\n",
    "<p style=\"padding-left: 30px;\">1. Install and run PySpark</p>\n",
    "<p style=\"padding-left: 30px;\">PySpark was run in the cloud using DataProc as part of Google Cloud Platform. A cluster was set up and connected to Jupyter.</p>"
   ]
  },
  {
   "cell_type": "code",
   "execution_count": 1,
   "metadata": {},
   "outputs": [
    {
     "name": "stdout",
     "output_type": "stream",
     "text": [
      "Collecting pyspark\n",
      "Requirement already satisfied, skipping upgrade: py4j==0.10.7 in /opt/conda/lib/python3.7/site-packages (from pyspark) (0.10.7)\n",
      "Installing collected packages: pyspark\n",
      "  Found existing installation: pyspark 2.3.4\n",
      "    Can't uninstall 'pyspark'. No files were found to uninstall.\n",
      "Successfully installed pyspark-2.4.5\n"
     ]
    }
   ],
   "source": [
    "# Install PySpark libraries and initiate Spark\n",
    "!pip install --upgrade  pyspark\n",
    "from pyspark.sql import SparkSession\n",
    "from pyspark.sql.functions import date_format, col, avg\n",
    "spark = SparkSession.builder.getOrCreate()"
   ]
  },
  {
   "cell_type": "markdown",
   "metadata": {},
   "source": [
    "<p style=\"padding-left: 30px;\">2. Load .csv for Player_Summaries, Games_Publishers, Games_Genres, Games_Developers, Games_1 into PySpark dataframes.</p>"
   ]
  },
  {
   "cell_type": "code",
   "execution_count": 2,
   "metadata": {},
   "outputs": [],
   "source": [
    "# Read the Player Summary csv files and combine into a single dataframe\n",
    "path = \"gs://dataproc-d5da8056-80df-436a-8ab5-db077106cb06-europe-west6/notebooks/\"\n",
    "player_summaries0_df = spark.read.csv(path + \"Player_Summaries-000000000000.csv\", header=True)\n",
    "player_summaries1_df = spark.read.csv(path + \"Player_Summaries-000000000001.csv\", header=True)\n",
    "player_summaries2_df = spark.read.csv(path + \"Player_Summaries-000000000002.csv\", header=True)\n",
    "player_summaries3_df = spark.read.csv(path + \"Player_Summaries-000000000003.csv\", header=True)\n",
    "player_summaries4_df = spark.read.csv(path + \"Player_Summaries-000000000004.csv\", header=True)\n",
    "player_summaries5_df = spark.read.csv(path + \"Player_Summaries-000000000005.csv\", header=True)\n",
    "player_summaries_df = player_summaries0_df.union(player_summaries1_df.union(player_summaries2_df.union(player_summaries3_df.union(player_summaries4_df.union(player_summaries5_df)))))\n",
    "\n",
    "# Read the Games_* csv files and combine the Games_1 files into single dataframes\n",
    "games_publishers_df = spark.read.csv(path + \"Games_Publishers.csv\", header=True)\n",
    "games_developers_df = spark.read.csv(path + \"Games_Developers.csv\", header=True)\n",
    "games_genres_df = spark.read.csv(path + \"Games_Genres.csv\", header=True)\n",
    "\n",
    "games_10_df = spark.read.csv(path + \"Games_1-000000000000.csv\", header=True)\n",
    "games_11_df = spark.read.csv(path + \"Games_1-000000000001.csv\", header=True)\n",
    "games_1_df = games_10_df.union(games_11_df)\n",
    "\n",
    "## The instructions did not state to load the Games_2 files - but the following instruction says to include all Games_, \n",
    "## so I assume it was ommitted by typo\n",
    "games_20_df = spark.read.csv(path + \"Games_2-000000000000.csv\", header=True)\n",
    "games_21_df = spark.read.csv(path + \"Games_2-000000000001.csv\", header=True)\n",
    "games_22_df = spark.read.csv(path + \"Games_2-000000000002.csv\", header=True)\n",
    "games_2_df = games_20_df.union(games_21_df.union(games_22_df))\n",
    "\n",
    "games_full_df = games_1_df.union(games_2_df)"
   ]
  },
  {
   "cell_type": "markdown",
   "metadata": {},
   "source": [
    "<p style=\"padding-left: 30px;\">3. Join all 'Games_' tables into one dataframe.</p>"
   ]
  },
  {
   "cell_type": "code",
   "execution_count": 3,
   "metadata": {},
   "outputs": [],
   "source": [
    "games_join = games_full_df.join(games_publishers_df, on = ['appid'], how = 'full').join(games_developers_df, on = ['appid'], how = 'full').join(games_genres_df, on = ['appid'], how = 'full')"
   ]
  },
  {
   "cell_type": "code",
   "execution_count": 4,
   "metadata": {},
   "outputs": [
    {
     "name": "stdout",
     "output_type": "stream",
     "text": [
      "+------+-----------------+---------------+----------------+--------------------+---------------+--------------+--------+\n",
      "| appid|          steamid|playtime_2weeks|playtime_forever|       dateretrieved|      Publisher|     Developer|   Genre|\n",
      "+------+-----------------+---------------+----------------+--------------------+---------------+--------------+--------+\n",
      "|108231|             null|           null|            null|                null| Days of Wonder|Days of Wonder|   Indie|\n",
      "|108231|             null|           null|            null|                null| Days of Wonder|Days of Wonder|  Casual|\n",
      "|108231|             null|           null|            null|                null| Days of Wonder|Days of Wonder|Strategy|\n",
      "|108800|76561197973718054|           null|            1348|2013-05-14 07:52:...|Electronic Arts|Crytek Studios|  Action|\n",
      "|108800|76561198077027953|            213|             969|2013-09-27 11:45:...|Electronic Arts|Crytek Studios|  Action|\n",
      "|108800|76561197970336122|           null|             998|2013-05-11 20:12:...|Electronic Arts|Crytek Studios|  Action|\n",
      "|108800|76561198050351845|            102|             102|2013-08-28 07:52:...|Electronic Arts|Crytek Studios|  Action|\n",
      "|108800|76561197983834231|           null|             942|2013-05-18 15:08:...|Electronic Arts|Crytek Studios|  Action|\n",
      "|108800|76561198066712668|           null|             327|2013-10-01 08:01:...|Electronic Arts|Crytek Studios|  Action|\n",
      "|108800|76561197993364277|           null|             300|2013-05-29 01:44:...|Electronic Arts|Crytek Studios|  Action|\n",
      "+------+-----------------+---------------+----------------+--------------------+---------------+--------------+--------+\n",
      "only showing top 10 rows\n",
      "\n"
     ]
    }
   ],
   "source": [
    "games_join.show(10)"
   ]
  },
  {
   "cell_type": "markdown",
   "metadata": {},
   "source": [
    "<p style=\"padding-left: 30px;\">4. Count the number of games per 'publisher' and per 'genre.'</p>"
   ]
  },
  {
   "cell_type": "code",
   "execution_count": 5,
   "metadata": {},
   "outputs": [
    {
     "name": "stdout",
     "output_type": "stream",
     "text": [
      "+--------------------------------------+-----+\n",
      "|Publisher                             |count|\n",
      "+--------------------------------------+-----+\n",
      "|null                                  |2627 |\n",
      "|Ubisoft                               |384  |\n",
      "|SEGA                                  |349  |\n",
      "|Dovetail Games - Trains               |279  |\n",
      "|Paradox Interactive                   |246  |\n",
      "|Disney Interactive                    |226  |\n",
      "|Feral Interactive (Mac)               |221  |\n",
      "|Activision                            |221  |\n",
      "|Degica                                |190  |\n",
      "|Nordic Games                          |164  |\n",
      "|Square Enix                           |153  |\n",
      "|KISS ltd                              |145  |\n",
      "|Feral Interactive (Linux)             |143  |\n",
      "|Wizards of the Coast LLC              |135  |\n",
      "|Strategy First                        |134  |\n",
      "|2K Games                              |120  |\n",
      "|Capcom                                |115  |\n",
      "|Warner Bros. Interactive Entertainment|108  |\n",
      "|Kalypso Media Digital                 |104  |\n",
      "|Deep Silver                           |98   |\n",
      "+--------------------------------------+-----+\n",
      "only showing top 20 rows\n",
      "\n"
     ]
    }
   ],
   "source": [
    "games_publishers_df.groupBy('Publisher').count().orderBy('count', ascending = 0).show(truncate=False)"
   ]
  },
  {
   "cell_type": "code",
   "execution_count": 6,
   "metadata": {},
   "outputs": [
    {
     "name": "stdout",
     "output_type": "stream",
     "text": [
      "+---------------------+-----+\n",
      "|Genre                |count|\n",
      "+---------------------+-----+\n",
      "|Indie                |7982 |\n",
      "|Action               |7126 |\n",
      "|Adventure            |4517 |\n",
      "|Strategy             |3953 |\n",
      "|Casual               |3939 |\n",
      "|Simulation           |3870 |\n",
      "|RPG                  |3147 |\n",
      "|Free to Play         |1172 |\n",
      "|Early Access         |901  |\n",
      "|Massively Multiplayer|748  |\n",
      "|Racing               |619  |\n",
      "|Sports               |604  |\n",
      "|Design & Illustration|240  |\n",
      "|Utilities            |207  |\n",
      "|Web Publishing       |146  |\n",
      "|Animation & Modeling |112  |\n",
      "|Audio Production     |112  |\n",
      "|Software Training    |82   |\n",
      "|Education            |73   |\n",
      "|Video Production     |69   |\n",
      "+---------------------+-----+\n",
      "only showing top 20 rows\n",
      "\n"
     ]
    }
   ],
   "source": [
    "games_genres_df.groupBy('Genre').count().orderBy('count', ascending = 0).show(truncate=False)"
   ]
  },
  {
   "cell_type": "markdown",
   "metadata": {},
   "source": [
    "<p style=\"padding-left: 30px;\">5. Find day and hour when most new accounts were created (based on Player_Summaries table)</p>"
   ]
  },
  {
   "cell_type": "code",
   "execution_count": 7,
   "metadata": {},
   "outputs": [
    {
     "name": "stdout",
     "output_type": "stream",
     "text": [
      "+-------------+------+\n",
      "|         hour| count|\n",
      "+-------------+------+\n",
      "|         null|252717|\n",
      "|2013-03-02 10|  1782|\n",
      "|2012-12-25 10|  1448|\n",
      "|2012-12-25 08|  1355|\n",
      "|2012-12-25 11|  1159|\n",
      "+-------------+------+\n",
      "only showing top 5 rows\n",
      "\n"
     ]
    }
   ],
   "source": [
    "player_summaries_df.groupBy(date_format('timecreated', 'yyyy-MM-dd HH').alias('hour')).count().orderBy('count', ascending = 0).show(5)"
   ]
  },
  {
   "cell_type": "markdown",
   "metadata": {},
   "source": [
    "<p style=\"padding-left: 30px;\">The most accounts (with non-null values) were created on March 2nd, 2013 at 10 AM.</p>"
   ]
  },
  {
   "cell_type": "markdown",
   "metadata": {},
   "source": [
    "<p><strong>Exercise 2: Analytics</strong></p>\n",
    "<p style=\"padding-left: 30px;\">Case Instructions: \"Your client is a mental health expert from an NGO who is interested in understanding more about gaming and the potentially addictive effect it can have on some individuals. You are meeting the client in a few days and they would like you to extract and present insights from the Steam dataset to help them in their research.\"</p>\n",
    "\n",
    "I would ideally obtain my client's benchmarks that indicate an addiction to video games, but it was not provided. I researched how many hours of video gaming per day/week would be considered an addiction, but different metrics are often cited (and none is provided in the WHO's classification of gaming disorders). So I settled on 50 hours per week as a middle-ground between many of the figures. Using this, I used the data to answer the following questions (visualizations are provided via Tableau)."
   ]
  },
  {
   "cell_type": "markdown",
   "metadata": {},
   "source": [
    "1. What percentage of Steam users have an \"addiction-level\" playtime?"
   ]
  },
  {
   "cell_type": "code",
   "execution_count": 8,
   "metadata": {},
   "outputs": [],
   "source": [
    "# Open the App ID file to obtain additional information bout the games\n",
    "app_id_df = spark.read.csv(path + \"App_ID_Info.csv\", header=True)\n",
    "\n",
    "# Remove games that have never been played, join the App ID dataframe, and remove unnecessary columns\n",
    "games_played = games_join.where(col('playtime_forever').isNotNull())\n",
    "games_played = games_played.join(app_id_df, on = ['appid'], how = 'left')\n",
    "games_played = games_played.drop(*['dateretrieved', 'Type', 'Release_Date', 'Rating', 'Required_Age', 'Is_Multiplayer'])"
   ]
  },
  {
   "cell_type": "code",
   "execution_count": 9,
   "metadata": {},
   "outputs": [
    {
     "name": "stdout",
     "output_type": "stream",
     "text": [
      "+-----+-----------------+---------------+----------------+-------------------+--------------------+----------+--------------------+-----+\n",
      "|appid|          steamid|playtime_2weeks|playtime_forever|          Publisher|           Developer|     Genre|               Title|Price|\n",
      "+-----+-----------------+---------------+----------------+-------------------+--------------------+----------+--------------------+-----+\n",
      "|55230|76561197972368092|           null|            2919|        Deep Silver|            Volition|    Action|Saints Row: The T...|14.99|\n",
      "|42910|76561197972228702|           null|              18|Paradox Interactive|Arrowhead Game St...|    Action|             Magicka| 9.99|\n",
      "|42910|76561197972228702|           null|              18|Paradox Interactive|Arrowhead Game St...|       RPG|             Magicka| 9.99|\n",
      "|33900|76561198058121020|           null|              13|Bohemia Interactive| Bohemia Interactive|Simulation|              Arma 2|12.99|\n",
      "|33900|76561198058121020|           null|              13|Bohemia Interactive| Bohemia Interactive|  Strategy|              Arma 2|12.99|\n",
      "+-----+-----------------+---------------+----------------+-------------------+--------------------+----------+--------------------+-----+\n",
      "only showing top 5 rows\n",
      "\n"
     ]
    }
   ],
   "source": [
    "games_played.show(5)"
   ]
  },
  {
   "cell_type": "code",
   "execution_count": 10,
   "metadata": {},
   "outputs": [],
   "source": [
    "# Convert the numeric features to int/float\n",
    "from pyspark.sql.types import IntegerType, FloatType\n",
    "games_played = games_played.withColumn('playtime_2weeks', games_played['playtime_2weeks'].cast(IntegerType()))\n",
    "games_played = games_played.withColumn('playtime_forever', games_played['playtime_forever'].cast(IntegerType()))\n",
    "games_played = games_played.withColumn('Price', games_played['Price'].cast(FloatType()))"
   ]
  },
  {
   "cell_type": "code",
   "execution_count": 11,
   "metadata": {},
   "outputs": [
    {
     "name": "stdout",
     "output_type": "stream",
     "text": [
      "+-----------------+--------------------+\n",
      "|          steamid|sum(playtime_2weeks)|\n",
      "+-----------------+--------------------+\n",
      "|76561197979880077|               19835|\n",
      "|76561198017077515|               45219|\n",
      "|76561197996880035|               29113|\n",
      "|76561198043166176|               10340|\n",
      "|76561197971697538|               18111|\n",
      "+-----------------+--------------------+\n",
      "only showing top 5 rows\n",
      "\n"
     ]
    }
   ],
   "source": [
    "# Create a dataframe of the players with an addiction-level of playtime in the last two weeks (100 hours or 6000 minutes)\n",
    "addicts_df = games_played.groupBy('steamid').sum('playtime_2weeks').where(col('sum(playtime_2weeks)') > 6000)\n",
    "addicts_df.show(5)"
   ]
  },
  {
   "cell_type": "code",
   "execution_count": 12,
   "metadata": {},
   "outputs": [],
   "source": [
    "# Create a dataframe of the total number of \"active\" gamers that have any playtime in the last two weeks\n",
    "active_players_df = games_played.groupBy('steamid').sum('playtime_2weeks').where(col('sum(playtime_2weeks)') > 0)\n"
   ]
  },
  {
   "cell_type": "code",
   "execution_count": 13,
   "metadata": {},
   "outputs": [
    {
     "name": "stdout",
     "output_type": "stream",
     "text": [
      "0.24729512684796495\n"
     ]
    }
   ],
   "source": [
    "# Calculate addiction rate\n",
    "addiction_rate = addicts_df.count()/active_players_df.count()\n",
    "print(addiction_rate)"
   ]
  },
  {
   "cell_type": "markdown",
   "metadata": {},
   "source": [
    "2. Identify the most popular games, developers, and genres for the addicted-level players (by number of downloads)"
   ]
  },
  {
   "cell_type": "code",
   "execution_count": 14,
   "metadata": {},
   "outputs": [
    {
     "name": "stdout",
     "output_type": "stream",
     "text": [
      "+--------------------------------+------+\n",
      "|Title                           |count |\n",
      "+--------------------------------+------+\n",
      "|null                            |122736|\n",
      "|Dota 2                          |86214 |\n",
      "|Team Fortress 2                 |68351 |\n",
      "|Left 4 Dead 2                   |63188 |\n",
      "|ORION: Prelude                  |47755 |\n",
      "|Counter-Strike: Global Offensive|47541 |\n",
      "|Borderlands 2                   |45277 |\n",
      "|The Elder Scrolls V: Skyrim     |44572 |\n",
      "|Counter-Strike: Source          |41766 |\n",
      "|Contagion                       |41597 |\n",
      "|Sid Meier's Civilization® V     |41345 |\n",
      "+--------------------------------+------+\n",
      "only showing top 11 rows\n",
      "\n"
     ]
    }
   ],
   "source": [
    "# Create a dataframe with the game details, but that only includes the \"addicted-level players\"\n",
    "addicts_games_df = addicts_df.join(games_played, on = ['steamid'], how = 'left')\n",
    "\n",
    "# Identify the most popular game titles for addicted-level players\n",
    "most_pop_games = addicts_games_df.select(['steamid', 'Title']).dropDuplicates()\n",
    "most_pop_games.groupBy('Title').count().orderBy('count', ascending = 0).show(11, truncate = False)\n",
    "\n",
    "# Export to CSV for Tableau\n",
    "most_pop_games.groupBy('Title').count().orderBy('count', ascending = 0).repartition(1).write.csv(path + 'most_pop_games.csv')"
   ]
  },
  {
   "cell_type": "code",
   "execution_count": 15,
   "metadata": {},
   "outputs": [
    {
     "name": "stdout",
     "output_type": "stream",
     "text": [
      "+-----------------------+------+\n",
      "|Developer              |count |\n",
      "+-----------------------+------+\n",
      "|null                   |123541|\n",
      "|Valve                  |121205|\n",
      "|Feral Interactive (Mac)|63191 |\n",
      "|Infinity Ward          |54492 |\n",
      "|Gearbox Software       |54291 |\n",
      "|Firaxis Games          |49169 |\n",
      "|Aspyr (Mac)            |48560 |\n",
      "|Bethesda Game Studios  |48014 |\n",
      "|Spiral Game Studios    |47755 |\n",
      "|Aspyr (Mac & Linux)    |45277 |\n",
      "|Facepunch Studios      |45147 |\n",
      "+-----------------------+------+\n",
      "only showing top 11 rows\n",
      "\n"
     ]
    }
   ],
   "source": [
    "# Identify the most popular developers of games downloaded by addicted-level players\n",
    "most_pop_devs = addicts_games_df.select(['steamid', 'Developer']).dropDuplicates()\n",
    "most_pop_devs.groupBy('Developer').count().orderBy('count', ascending = 0).show(11, truncate = False)\n",
    "\n",
    "# Export to CSV for Tableau\n",
    "most_pop_devs.groupBy('Developer').count().orderBy('count', ascending = 0).repartition(1).write.csv(path + 'most_pop_devs.csv')"
   ]
  },
  {
   "cell_type": "code",
   "execution_count": 16,
   "metadata": {},
   "outputs": [
    {
     "name": "stdout",
     "output_type": "stream",
     "text": [
      "+---------------------+------+\n",
      "|Genre                |count |\n",
      "+---------------------+------+\n",
      "|Action               |133740|\n",
      "|Strategy             |129858|\n",
      "|Indie                |122848|\n",
      "|null                 |122791|\n",
      "|Free to Play         |119091|\n",
      "|Adventure            |110148|\n",
      "|RPG                  |101159|\n",
      "|Simulation           |86835 |\n",
      "|Casual               |86315 |\n",
      "|Massively Multiplayer|72717 |\n",
      "|Early Access         |65014 |\n",
      "+---------------------+------+\n",
      "only showing top 11 rows\n",
      "\n"
     ]
    }
   ],
   "source": [
    "# Identify the most popular genres of games downloaded by addicted-level players\n",
    "most_pop_genre = addicts_games_df.select(['steamid', 'Genre']).dropDuplicates()\n",
    "most_pop_genre.groupBy('Genre').count().orderBy('count', ascending = 0).show(11, truncate = False)\n",
    "\n",
    "# Export to CSV for Tableau\n",
    "most_pop_genre.groupBy('Genre').count().orderBy('count', ascending = 0).repartition(1).write.csv(path + 'most_pop_genre.csv')"
   ]
  },
  {
   "cell_type": "markdown",
   "metadata": {},
   "source": [
    "3. Identify the most popular game titles for addicted-level players (by overall playtime)"
   ]
  },
  {
   "cell_type": "code",
   "execution_count": 17,
   "metadata": {},
   "outputs": [
    {
     "name": "stdout",
     "output_type": "stream",
     "text": [
      "+--------------------------------+---------------------+\n",
      "|Title                           |sum(playtime_forever)|\n",
      "+--------------------------------+---------------------+\n",
      "|Dota 2                          |5391727528           |\n",
      "|Team Fortress 2                 |1197885641           |\n",
      "|Sid Meier's Civilization® V     |777257322            |\n",
      "|null                            |754706756            |\n",
      "|Counter-Strike                  |569676280            |\n",
      "|Counter-Strike: Source          |549369386            |\n",
      "|Garry's Mod                     |483423927            |\n",
      "|The Elder Scrolls V: Skyrim     |386992154            |\n",
      "|Counter-Strike: Global Offensive|354250698            |\n",
      "|Call of Duty®: Modern Warfare® 2|277854837            |\n",
      "|Call of Duty®: Modern Warfare® 3|226900035            |\n",
      "+--------------------------------+---------------------+\n",
      "only showing top 11 rows\n",
      "\n"
     ]
    }
   ],
   "source": [
    "# Rank the titles by play time\n",
    "most_played_games = addicts_games_df.select(['playtime_forever', 'Title']).dropDuplicates()\n",
    "most_played_games.groupBy('Title').sum('playtime_forever').orderBy('sum(playtime_forever)', ascending = 0).show(11, truncate = False)\n",
    "\n",
    "# Export to CSV for Tableau\n",
    "most_played_games.groupBy('Title').sum('playtime_forever').orderBy('sum(playtime_forever)', ascending = 0).repartition(1).write.csv(path + 'most_played_games_pt.csv')"
   ]
  },
  {
   "cell_type": "markdown",
   "metadata": {},
   "source": [
    "4. Calculate how much money is spent in Steam by addicted-level players."
   ]
  },
  {
   "cell_type": "code",
   "execution_count": 18,
   "metadata": {},
   "outputs": [
    {
     "name": "stdout",
     "output_type": "stream",
     "text": [
      "+-----------------+------------------+\n",
      "|steamid          |sum(Price)        |\n",
      "+-----------------+------------------+\n",
      "|76561197986448970|32302.839499235153|\n",
      "|76561197971880992|29075.59961295128 |\n",
      "|76561197977129171|25774.79963350296 |\n",
      "|76561197972029264|23950.169701576233|\n",
      "|76561198013213702|23003.319592237473|\n",
      "|76561197970335892|22973.59959578514 |\n",
      "|76561197971066622|22494.21960043907 |\n",
      "|76561197970432492|22191.15969467163 |\n",
      "|76561197993174473|22184.2297000885  |\n",
      "|76561197970322620|21834.309688329697|\n",
      "|76561197970408576|21600.409688711166|\n",
      "|76561198024662414|21556.259591579437|\n",
      "|76561198008037678|21492.76966881752 |\n",
      "|76561198033882875|21311.44964647293 |\n",
      "|76561197979750959|20412.259642362595|\n",
      "|76561197988967716|20049.37964630127 |\n",
      "|76561198004780374|19934.09962081909 |\n",
      "|76561198050036517|19899.31965470314 |\n",
      "|76561198053167763|18797.699720144272|\n",
      "|76561198014782362|18626.929695367813|\n",
      "+-----------------+------------------+\n",
      "only showing top 20 rows\n",
      "\n"
     ]
    }
   ],
   "source": [
    "# Rank each player by overall spend, removing duplicates\n",
    "most_money_spent = addicts_games_df.select(['steamid', 'Title', 'Price']).dropDuplicates()\n",
    "most_money_spent.groupBy('steamid').sum('Price').orderBy('sum(Price)', ascending = 0).show(truncate = False)\n",
    "\n",
    "# Export to CSV for Tableau\n",
    "most_money_spent.groupBy('steamid').sum('Price').orderBy('sum(Price)', ascending = 0).repartition(1).write.csv(path + 'most_money_spent.csv')"
   ]
  },
  {
   "cell_type": "code",
   "execution_count": 19,
   "metadata": {},
   "outputs": [
    {
     "name": "stdout",
     "output_type": "stream",
     "text": [
      "+----------------+\n",
      "| avg(sum(Price))|\n",
      "+----------------+\n",
      "|692.323092390373|\n",
      "+----------------+\n",
      "\n"
     ]
    }
   ],
   "source": [
    "# Find the average amount spent by the addicted-level players\n",
    "average_spent = most_money_spent.groupBy('steamid').sum('Price').select(avg(col('sum(Price)')))\n",
    "average_spent.show()"
   ]
  },
  {
   "cell_type": "markdown",
   "metadata": {},
   "source": [
    "5. Find the country locations of the most addicted-level players"
   ]
  },
  {
   "cell_type": "code",
   "execution_count": 20,
   "metadata": {},
   "outputs": [],
   "source": [
    "# Join the player summary dataframes to the addicted-level players\n",
    "addicts_loc_df = addicts_df.join(player_summaries_df, on = ['steamid'], how = 'left')\n",
    "\n",
    "# Export to CSV for Tableau\n",
    "addicts_loc_df.groupBy('loccountrycode').count().orderBy('count', ascending=0).repartition(1).write.csv(path + 'addicts_loc_df.csv')"
   ]
  },
  {
   "cell_type": "code",
   "execution_count": null,
   "metadata": {},
   "outputs": [],
   "source": []
  }
 ],
 "metadata": {
  "kernelspec": {
   "display_name": "PySpark",
   "language": "python",
   "name": "pyspark"
  },
  "language_info": {
   "codemirror_mode": {
    "name": "ipython",
    "version": 3
   },
   "file_extension": ".py",
   "mimetype": "text/x-python",
   "name": "python",
   "nbconvert_exporter": "python",
   "pygments_lexer": "ipython3",
   "version": "3.7.3"
  }
 },
 "nbformat": 4,
 "nbformat_minor": 4
}
